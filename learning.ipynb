{
 "cells": [
  {
   "cell_type": "code",
   "execution_count": 3,
   "id": "b933bc4a",
   "metadata": {},
   "outputs": [],
   "source": [
    "lst=[32,45]"
   ]
  },
  {
   "cell_type": "code",
   "execution_count": 4,
   "id": "bd4dc9b2",
   "metadata": {},
   "outputs": [
    {
     "name": "stdout",
     "output_type": "stream",
     "text": [
      "<class 'list'>\n"
     ]
    }
   ],
   "source": [
    "print(type(lst))"
   ]
  },
  {
   "cell_type": "markdown",
   "id": "f7a1c93d",
   "metadata": {},
   "source": [
    "#constructor : Already called when an object of the class is created"
   ]
  },
  {
   "cell_type": "code",
   "execution_count": 1,
   "id": "355bd7bc",
   "metadata": {},
   "outputs": [
    {
     "name": "stdout",
     "output_type": "stream",
     "text": [
      "start\n",
      "close\n"
     ]
    }
   ],
   "source": [
    "class chatbook:\n",
    "    #constructor : Already called when an object of the class is created\n",
    "    def __init__(self):\n",
    "        print('start')\n",
    "        self.username=''\n",
    "        self.password=''\n",
    "        self.logged=False\n",
    "        print('close')\n",
    "    \n",
    "obj=chatbook()"
   ]
  },
  {
   "cell_type": "markdown",
   "id": "12d4e828",
   "metadata": {},
   "source": [
    "MEthod are fucntion inside the class and are called explicitly"
   ]
  },
  {
   "cell_type": "code",
   "execution_count": null,
   "id": "afe871c3",
   "metadata": {},
   "outputs": [],
   "source": [
    "class chatbook:\n",
    "    #constructor : Already called when an object of the class is created\n",
    "    def __init__(self):\n",
    "        \n",
    "        self.username=''\n",
    "        self.password=''\n",
    "        self.logged=False\n",
    "        \n",
    "    def menu(self):\n",
    "        user_input=input('''\n",
    "                    Welcome to Chatbook !! How would you like to proceed ?\n",
    "                         1. Press 1 to signup\n",
    "                         2. Press 2 for signin\n",
    "                         3. PRess 3 to write an Post \n",
    "                         4. Press 4 to message a friend\n",
    "                         5. PRess any other key to exit ''')\n",
    "        \n",
    "obj=chatbook()\n",
    "obj.menu() #explicit calling"
   ]
  },
  {
   "cell_type": "markdown",
   "id": "5cb3de61",
   "metadata": {},
   "source": [
    "SignUP and SignIn methpd added"
   ]
  },
  {
   "cell_type": "code",
   "execution_count": null,
   "id": "3a1c6acc",
   "metadata": {},
   "outputs": [
    {
     "name": "stdout",
     "output_type": "stream",
     "text": [
      "You nedd to dignin first to post something ...\n",
      "\n",
      "\n",
      "You nedd to dignin first to post something ...\n",
      "\n",
      "\n",
      "You have signed up Successfully !!!\n",
      "\n",
      "\n",
      "You need to signin first to post something...\n",
      "\n",
      "\n"
     ]
    }
   ],
   "source": [
    "class chatbook:\n",
    "    #constructor : Already called when an object of the class is created\n",
    "    def __init__(self):\n",
    "        \n",
    "        self.username=''\n",
    "        self.password=''\n",
    "        self.logged=False\n",
    "        self.menu()\n",
    "        \n",
    "    def menu(self):\n",
    "        user_input=input('''\n",
    "                    Welcome to Chatbook !! How would you like to proceed ?\n",
    "                         1. Press 1 to signup\n",
    "                         2. Press 2 for signin\n",
    "                         3. PRess 3 to write an Post \n",
    "                         4. Press 4 to message a friend\n",
    "                         5. PRess any other key to exit ''')\n",
    "        if user_input==\"1\":\n",
    "            self.signup()\n",
    "        elif user_input=='2':\n",
    "            self.signin()\n",
    "        elif user_input==\"3\":\n",
    "            self.my_post()\n",
    "        elif user_input==\"4\":\n",
    "            self.sendmsg()\n",
    "        elif user_input==\"5\":\n",
    "            exit()\n",
    "        \n",
    "    def signup(self):\n",
    "        email=input(\"Enter you email here -->\")\n",
    "        pwd=input(\"ENter your password here --->\")\n",
    "        self.username=email\n",
    "        self.password=pwd\n",
    "        print(\"You have signed up Successfully !!!\")\n",
    "        print(\"\\n\")\n",
    "        self.menu() \n",
    "\n",
    "    def signin(self):\n",
    "        if self.username==\"\" and self.password==\"\":\n",
    "            print(\"Please sign up first !!!\")\n",
    "        else:\n",
    "            uname=input('ENter you email/username here -->')\n",
    "            pwd=input('Enter your password here -->')\n",
    "            if self.username==uname and self.password==pwd:\n",
    "                print('You have singed up successfully')\n",
    "                self.logged=True\n",
    "            else:\n",
    "                print(\"Please enter correct credentials !!!\")\n",
    "        print(\"\\n\")\n",
    "        self.menu()\n",
    "\n",
    "    def my_post(self):\n",
    "        if self.logged==True:\n",
    "            txt=input(\"ENter your message here -->\")\n",
    "            print(f\"The following content has been posted --> {txt}\")\n",
    "        else:\n",
    "            print(\"You need to signin first to post something ...\")\n",
    "        print(\"\\n\")\n",
    "        self.menu()\n",
    "    \n",
    "    def sendmsg(self):\n",
    "        if self.logged==True:\n",
    "            txt = input(\"Enter your message here -> \")\n",
    "            frnd = input(\"Whom to send the msg? -> \")\n",
    "            print(f\"Your message has been sent to {frnd}\")\n",
    "        else:\n",
    "            print(\"You need to signin first to post something...\")\n",
    "        print(\"\\n\")\n",
    "        self.menu()\n",
    "    \n",
    "user=chatbook()\n",
    "user.menu()"
   ]
  },
  {
   "cell_type": "code",
   "execution_count": null,
   "id": "5b1490a6",
   "metadata": {},
   "outputs": [],
   "source": []
  },
  {
   "cell_type": "code",
   "execution_count": null,
   "id": "c2913ffd",
   "metadata": {},
   "outputs": [],
   "source": []
  }
 ],
 "metadata": {
  "kernelspec": {
   "display_name": "Python 3",
   "language": "python",
   "name": "python3"
  },
  "language_info": {
   "codemirror_mode": {
    "name": "ipython",
    "version": 3
   },
   "file_extension": ".py",
   "mimetype": "text/x-python",
   "name": "python",
   "nbconvert_exporter": "python",
   "pygments_lexer": "ipython3",
   "version": "3.12.9"
  }
 },
 "nbformat": 4,
 "nbformat_minor": 5
}
