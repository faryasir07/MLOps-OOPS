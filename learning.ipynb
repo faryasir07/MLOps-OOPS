{
 "cells": [
  {
   "cell_type": "code",
   "execution_count": 3,
   "id": "b933bc4a",
   "metadata": {},
   "outputs": [],
   "source": [
    "lst=[32,45]"
   ]
  },
  {
   "cell_type": "code",
   "execution_count": 4,
   "id": "bd4dc9b2",
   "metadata": {},
   "outputs": [
    {
     "name": "stdout",
     "output_type": "stream",
     "text": [
      "<class 'list'>\n"
     ]
    }
   ],
   "source": [
    "print(type(lst))"
   ]
  },
  {
   "cell_type": "markdown",
   "id": "f7a1c93d",
   "metadata": {},
   "source": [
    "#constructor : Already called when an object of the class is created"
   ]
  },
  {
   "cell_type": "code",
   "execution_count": 1,
   "id": "355bd7bc",
   "metadata": {},
   "outputs": [
    {
     "name": "stdout",
     "output_type": "stream",
     "text": [
      "start\n",
      "close\n"
     ]
    }
   ],
   "source": [
    "class chatbook:\n",
    "    #constructor : Already called when an object of the class is created\n",
    "    def __init__(self):\n",
    "        print('start')\n",
    "        self.username=''\n",
    "        self.password=''\n",
    "        self.logged=False\n",
    "        print('close')\n",
    "    \n",
    "obj=chatbook()"
   ]
  },
  {
   "cell_type": "markdown",
   "id": "12d4e828",
   "metadata": {},
   "source": [
    "MEthod are fucntion inside the class and are called explicitly"
   ]
  },
  {
   "cell_type": "code",
   "execution_count": null,
   "id": "afe871c3",
   "metadata": {},
   "outputs": [],
   "source": [
    "class chatbook:\n",
    "    #constructor : Already called when an object of the class is created\n",
    "    def __init__(self):\n",
    "        \n",
    "        self.username=''\n",
    "        self.password=''\n",
    "        self.logged=False\n",
    "        \n",
    "    def menu(self):\n",
    "        user_input=input('''\n",
    "                    Welcome to Chatbook !! How would you like to proceed ?\n",
    "                         1. Press 1 to signup\n",
    "                         2. Press 2 for signin\n",
    "                         3. PRess 3 to write an Post \n",
    "                         4. Press 4 to message a friend\n",
    "                         5. PRess any other key to exit ''')\n",
    "        \n",
    "obj=chatbook()\n",
    "obj.menu() #explicit calling"
   ]
  },
  {
   "cell_type": "markdown",
   "id": "5cb3de61",
   "metadata": {},
   "source": [
    "SignUP and SignIn methpd added"
   ]
  },
  {
   "cell_type": "code",
   "execution_count": null,
   "id": "3a1c6acc",
   "metadata": {},
   "outputs": [],
   "source": [
    "class chatbook:\n",
    "    #constructor : Already called when an object of the class is created\n",
    "    def __init__(self):\n",
    "        \n",
    "        self.username=''\n",
    "        self.password=''\n",
    "        self.logged=False\n",
    "        \n",
    "    def menu(self):\n",
    "        user_input=input('''\n",
    "                    Welcome to Chatbook !! How would you like to proceed ?\n",
    "                         1. Press 1 to signup\n",
    "                         2. Press 2 for signin\n",
    "                         3. PRess 3 to write an Post \n",
    "                         4. Press 4 to message a friend\n",
    "                         5. PRess any other key to exit ''')\n",
    "        if user_input==\"1\":\n",
    "            self.signup()\n",
    "        elif user_input=='2':\n",
    "            pass\n",
    "        elif user_input==\"3\":\n",
    "            pass\n",
    "        elif user_input==\"4\":\n",
    "            pass\n",
    "        elif user_input==\"5\":\n",
    "            exit()\n",
    "        \n",
    "    def signup(self):\n",
    "        email=input(\"Enter you email here -->\")\n",
    "        pwd=input(\"ENter your password here --->\")\n",
    "        self.username=email\n",
    "        self.password=pwd\n",
    "        print(\"You have signed up Successfully !!!\")\n",
    "        print(\"\\n\")\n",
    "        self.menu() \n",
    "\n",
    "    def signin(self):\n",
    "        if self.username==\"\" and self.password==\"\":\n",
    "            print(\"Please sign up first !!!\")\n",
    "        else:\n",
    "            uname=input('ENter you email/username here -->')\n",
    "            pwd=input('Enter your password here -->')\n",
    "            if self.username==uname and self.password==pwd:\n",
    "                print('You have singed up successfully')\n",
    "                self.logged=True\n",
    "            else:\n",
    "                print(\"Please enter correct credentials !!!\")\n",
    "        print(\"\\n\")\n",
    "        self.menu()"
   ]
  }
 ],
 "metadata": {
  "kernelspec": {
   "display_name": "Python 3",
   "language": "python",
   "name": "python3"
  },
  "language_info": {
   "codemirror_mode": {
    "name": "ipython",
    "version": 3
   },
   "file_extension": ".py",
   "mimetype": "text/x-python",
   "name": "python",
   "nbconvert_exporter": "python",
   "pygments_lexer": "ipython3",
   "version": "3.12.9"
  }
 },
 "nbformat": 4,
 "nbformat_minor": 5
}
