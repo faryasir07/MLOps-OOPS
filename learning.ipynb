{
 "cells": [
  {
   "cell_type": "code",
   "execution_count": 3,
   "id": "b933bc4a",
   "metadata": {},
   "outputs": [],
   "source": [
    "lst=[32,45]"
   ]
  },
  {
   "cell_type": "code",
   "execution_count": 4,
   "id": "bd4dc9b2",
   "metadata": {},
   "outputs": [
    {
     "name": "stdout",
     "output_type": "stream",
     "text": [
      "<class 'list'>\n"
     ]
    }
   ],
   "source": [
    "print(type(lst))"
   ]
  },
  {
   "cell_type": "markdown",
   "id": "f7a1c93d",
   "metadata": {},
   "source": [
    "#constructor : Already called when an object of the class is created"
   ]
  },
  {
   "cell_type": "code",
   "execution_count": 1,
   "id": "355bd7bc",
   "metadata": {},
   "outputs": [
    {
     "name": "stdout",
     "output_type": "stream",
     "text": [
      "start\n",
      "close\n"
     ]
    }
   ],
   "source": [
    "class chatbook:\n",
    "    #constructor : Already called when an object of the class is created\n",
    "    def __init__(self):\n",
    "        print('start')\n",
    "        self.username=''\n",
    "        self.password=''\n",
    "        self.logged=False\n",
    "        print('close')\n",
    "    \n",
    "obj=chatbook()"
   ]
  },
  {
   "cell_type": "markdown",
   "id": "12d4e828",
   "metadata": {},
   "source": [
    "MEthod are fucntion inside the class and are called explicitly"
   ]
  },
  {
   "cell_type": "code",
   "execution_count": null,
   "id": "afe871c3",
   "metadata": {},
   "outputs": [],
   "source": [
    "class chatbook:\n",
    "    #constructor : Already called when an object of the class is created\n",
    "    def __init__(self):\n",
    "        \n",
    "        self.username=''\n",
    "        self.password=''\n",
    "        self.logged=False\n",
    "        \n",
    "    def menu(self):\n",
    "        user_input=input('''\n",
    "                    Welcome to Chatbook !! How would you like to proceed ?\n",
    "                         1. Press 1 to signup\n",
    "                         2. Press 2 for signin\n",
    "                         3. PRess 3 to write an Post \n",
    "                         4. Press 4 to message a friend\n",
    "                         5. PRess any other key to exit ''')\n",
    "        \n",
    "obj=chatbook()\n",
    "obj.menu() #expicit calling"
   ]
  },
  {
   "cell_type": "code",
   "execution_count": null,
   "id": "3a1c6acc",
   "metadata": {},
   "outputs": [],
   "source": []
  }
 ],
 "metadata": {
  "kernelspec": {
   "display_name": "Python 3",
   "language": "python",
   "name": "python3"
  },
  "language_info": {
   "codemirror_mode": {
    "name": "ipython",
    "version": 3
   },
   "file_extension": ".py",
   "mimetype": "text/x-python",
   "name": "python",
   "nbconvert_exporter": "python",
   "pygments_lexer": "ipython3",
   "version": "3.12.9"
  }
 },
 "nbformat": 4,
 "nbformat_minor": 5
}
